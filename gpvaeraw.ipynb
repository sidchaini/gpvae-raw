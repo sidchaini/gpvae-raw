{
 "cells": [
  {
   "cell_type": "markdown",
   "id": "20562c28-87b5-42c9-ba6d-505b3f706db4",
   "metadata": {},
   "source": [
    "## Download Physionet data"
   ]
  },
  {
   "cell_type": "code",
   "execution_count": 3,
   "id": "0b833d05-356a-45d5-a252-a20ea3d66111",
   "metadata": {},
   "outputs": [],
   "source": [
    "# !wget https://www.dropbox.com/s/651d86winb4cy9n/physionet.npz?dl=1 -O physionet.npz"
   ]
  },
  {
   "cell_type": "markdown",
   "id": "62f50ce4-709a-4628-b08c-5e21cde9390d",
   "metadata": {},
   "source": [
    "## Program\n",
    "    - https://www.kaggle.com/siddharthchaini/gp-vae-intro\n",
    "    - https://github.com/siddharthchaini/GP-VAE/blob/master/train.py"
   ]
  },
  {
   "cell_type": "code",
   "execution_count": 10,
   "id": "03d24fdf-5b6d-463c-8fb7-783299d1346a",
   "metadata": {},
   "outputs": [],
   "source": [
    "import sys\n",
    "import os\n",
    "import time\n",
    "from datetime import datetime\n",
    "import numpy as np\n",
    "import matplotlib\n",
    "matplotlib.use(\"Agg\")\n",
    "from matplotlib import pyplot as plt\n",
    "import tensorflow as tf\n",
    "\n",
    "tf.compat.v1.enable_eager_execution()\n",
    "\n",
    "from sklearn.metrics import average_precision_score, roc_auc_score\n",
    "from sklearn.linear_model import LogisticRegression\n",
    "\n",
    "import warnings\n",
    "warnings.simplefilter(action='ignore', category=FutureWarning)"
   ]
  },
  {
   "cell_type": "code",
   "execution_count": null,
   "id": "be7f0c4f-51f7-4916-b281-db7de0964da8",
   "metadata": {},
   "outputs": [],
   "source": [
    "# lib.models\n",
    "\n"
   ]
  },
  {
   "cell_type": "code",
   "execution_count": null,
   "id": "d0657fed-aede-4d28-af01-b1afd0b87791",
   "metadata": {},
   "outputs": [],
   "source": [
    "from lib.models import *\n",
    "\n",
    "\n",
    "FLAGS = flags.FLAGS\n"
   ]
  }
 ],
 "metadata": {
  "kernelspec": {
   "display_name": "Python 3",
   "language": "python",
   "name": "python3"
  },
  "language_info": {
   "codemirror_mode": {
    "name": "ipython",
    "version": 3
   },
   "file_extension": ".py",
   "mimetype": "text/x-python",
   "name": "python",
   "nbconvert_exporter": "python",
   "pygments_lexer": "ipython3",
   "version": "3.8.5"
  }
 },
 "nbformat": 4,
 "nbformat_minor": 5
}
